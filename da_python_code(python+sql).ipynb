{
 "cells": [
  {
   "cell_type": "code",
   "execution_count": null,
   "id": "614f0914-56e5-46ca-8118-289437fc599b",
   "metadata": {},
   "outputs": [],
   "source": []
  }
 ],
 "metadata": {
  "kernelspec": {
   "display_name": "",
   "name": ""
  },
  "language_info": {
   "name": ""
  }
 },
 "nbformat": 4,
 "nbformat_minor": 5
}
